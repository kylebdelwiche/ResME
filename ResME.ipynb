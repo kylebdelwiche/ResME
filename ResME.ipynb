{
 "cells": [
  {
   "cell_type": "code",
   "execution_count": 1,
   "metadata": {},
   "outputs": [],
   "source": [
    "## ResME model to estimate methane emissions from hydropower reservoirs\n",
    "\n",
    "## see Delwiche et al., in preparation\n",
    "\n",
    "#Necessary input files:\n",
    "# Reservoirs_table.xlsx (available on GitHub)\n",
    "# Stratified reservoir temperatures available from ERA5_Land product (extracted using Google Earth Engine)\n",
    "# Above and below ground carbon pools estimate, from xxxxxxx\n",
    "# Annual average temperature from MERRA2 (T2M_annual.merra2.01x01.2015.nc)\n",
    "# Sediment flux estimates from WBMSed, provided to us upon request from Sagy Cohen (from University of Alabama)\n",
    "# POC/DOC/TOC ratio data from Meybeck, 1982 (available on GitHub)\n"
   ]
  },
  {
   "cell_type": "code",
   "execution_count": 2,
   "metadata": {},
   "outputs": [],
   "source": [
    "%matplotlib inline\n",
    "\n",
    "import numpy as np\n",
    "import matplotlib.pyplot as plt\n",
    "import pandas as pd\n",
    "import seaborn as sns\n",
    "import statsmodels.api as sm\n",
    "import cartopy  \n",
    "import cartopy.crs as crs \n",
    "import matplotlib.dates as mdates\n",
    "import glob\n",
    "from scipy import stats\n",
    "from netCDF4 import Dataset\n",
    "\n",
    "pd.set_option('display.width', 600)\n",
    "pd.set_option('display.max_columns', 120)\n",
    "pd.set_option('display.max_rows', 1900)  #has to be more than the max# of rows in the dataframe, or it reverts to 10 - so silly!!\n"
   ]
  },
  {
   "cell_type": "markdown",
   "metadata": {},
   "source": [
    "#  Load reservoir data "
   ]
  },
  {
   "cell_type": "code",
   "execution_count": 3,
   "metadata": {},
   "outputs": [],
   "source": [
    "Res_CH4  = pd.read_csv('Reservoirs_table.csv')"
   ]
  },
  {
   "cell_type": "markdown",
   "metadata": {},
   "source": [
    "# Add values from external data sources"
   ]
  },
  {
   "cell_type": "markdown",
   "metadata": {},
   "source": [
    "### ERA5 Land water temperatures"
   ]
  },
  {
   "cell_type": "code",
   "execution_count": 4,
   "metadata": {},
   "outputs": [],
   "source": [
    "temps_era5 = pd.read_excel('../model inputs/Res_temp_strat_from_ERA5_Land.xlsx')\n",
    "years = mdates.YearLocator()   # every year\n",
    "months = mdates.MonthLocator()  # every month\n",
    "temps_era5.loc[:,'date'] = temps_era5.loc[:,'date'].str[0:10]\n",
    "temps_era5['date'] = pd.to_datetime(temps_era5['date'], format = '%Y-%m-%d')\n",
    "temps_era5['month'] = pd.DatetimeIndex(temps_era5['date']).month\n",
    "temps_era5.sort_values(by=['name', 'month'], inplace = True)\n",
    "temps_era5.reset_index(inplace =True, drop = True)\n",
    "\n",
    "temps_era5_avg = temps_era5.groupby(['name','month']).mean()\n",
    "temps_era5_avg.reset_index(inplace =True)\n",
    "\n",
    "bottom_temps = temps_era5_avg.pivot(index = 'name',columns = 'month',values = 'lake_bottom_temp_mean')\n",
    "bottom_temps.columns = bottom_temps.columns.astype(str)\n",
    "bottom_temps.rename(columns = {'1':'Jan', '2':'Feb', '3':'Mar','4':'Apr','5':'May','6':'Jun','7':'Jul','8':'Aug','9':'Sep','10':'Oct','11':'Nov','12':'Dec'}, inplace = True)\n",
    "bottom_temps.reset_index(inplace = True)\n",
    "bottom_temps = bottom_temps.add_suffix('_bottom_temp')\n",
    "bottom_temps.rename(columns = {'name_bottom_temp':'System'}, inplace = True)\n",
    "\n",
    "\n",
    "epi_temps = temps_era5_avg.pivot(index = 'name',columns = 'month',values = 'lake_mixed_layer_temp_mean')\n",
    "epi_temps.columns = epi_temps.columns.astype(str)\n",
    "epi_temps.rename(columns = {'1':'Jan', '2':'Feb', '3':'Mar','4':'Apr','5':'May','6':'Jun','7':'Jul','8':'Aug','9':'Sep','10':'Oct','11':'Nov','12':'Dec'}, inplace = True)\n",
    "epi_temps.reset_index(inplace = True)\n",
    "epi_temps = epi_temps.add_suffix('_epi_temp')\n",
    "epi_temps.rename(columns = {'name_epi_temp':'System'}, inplace = True)\n",
    "\n",
    "Res_CH4 = pd.merge(Res_CH4, bottom_temps, on = 'System', how = 'left')\n",
    "Res_CH4 = pd.merge(Res_CH4, epi_temps, on = 'System', how = 'left')\n"
   ]
  },
  {
   "cell_type": "markdown",
   "metadata": {},
   "source": [
    "### Flooded biomass carbon loading"
   ]
  },
  {
   "cell_type": "code",
   "execution_count": 5,
   "metadata": {},
   "outputs": [],
   "source": [
    "Carbon_Pools_Ann= np.load('../model inputs/Carbon_Pools_Ann.npy')   # kg/m2\n",
    "Carbon_Pools_Ann = Carbon_Pools_Ann * 1000000   #mg C/m2\n",
    "\n",
    "pools = pd.DataFrame(columns=['System','carbs','leaves','fine_roots','wood','wood_debris','surfmet','surfstruct','surfmic','soilmet','soilstruct','soilmic','soilslow','soilarm'])\n",
    "for reservoir in np.arange(len(Res_CH4)):\n",
    "\n",
    "    lati_carbonAnn = int((Res_CH4.loc[reservoir,'Latitude']+90)/float(0.5))  #0.5 here because there are 2 values per degree\n",
    "    loni_carbonAnn = int((Res_CH4.loc[reservoir,'Longitude']+180)/float(0.5))\n",
    "\n",
    "    pools.loc[reservoir,'System'] = Res_CH4.loc[reservoir,'System']\n",
    "    pools.loc[reservoir,'carbs'] = Carbon_Pools_Ann[0,lati_carbonAnn,loni_carbonAnn]   #now in mg/m2\n",
    "    pools.loc[reservoir,'leaves'] = Carbon_Pools_Ann[1,lati_carbonAnn,loni_carbonAnn]   #now in mg/m2\n",
    "    pools.loc[reservoir,'fine_roots'] = Carbon_Pools_Ann[2,lati_carbonAnn,loni_carbonAnn]   #now in mg/m2\n",
    "    pools.loc[reservoir,'wood'] = Carbon_Pools_Ann[3,lati_carbonAnn,loni_carbonAnn]   #now in mg/m2\n",
    "    pools.loc[reservoir,'wood_debris'] = Carbon_Pools_Ann[4,lati_carbonAnn,loni_carbonAnn]   #now in mg/m2\n",
    "    pools.loc[reservoir,'surfmet'] = Carbon_Pools_Ann[5,lati_carbonAnn,loni_carbonAnn]   #now in mg/m2\n",
    "    pools.loc[reservoir,'surfstruct'] = Carbon_Pools_Ann[6,lati_carbonAnn,loni_carbonAnn]   #now in mg/m2\n",
    "    pools.loc[reservoir,'surfmic'] = Carbon_Pools_Ann[7,lati_carbonAnn,loni_carbonAnn]   #now in mg/m2\n",
    "    pools.loc[reservoir,'soilmet'] = Carbon_Pools_Ann[8,lati_carbonAnn,loni_carbonAnn]   #now in mg/m2\n",
    "    pools.loc[reservoir,'soilstruct'] = Carbon_Pools_Ann[9,lati_carbonAnn,loni_carbonAnn]   #now in mg/m2\n",
    "    pools.loc[reservoir,'soilmic'] = Carbon_Pools_Ann[10,lati_carbonAnn,loni_carbonAnn]   #now in mg/m2\n",
    "    pools.loc[reservoir,'soilslow'] = Carbon_Pools_Ann[11,lati_carbonAnn,loni_carbonAnn]   #now in mg/m2\n",
    "    pools.loc[reservoir,'soilarm'] = Carbon_Pools_Ann[12,lati_carbonAnn,loni_carbonAnn]   #now in mg/m2\n",
    "\n",
    "\n",
    "pools['Biomass_nowood'] =  pools[['carbs','leaves','fine_roots', 'surfmet','surfstruct','surfmic','soilmet','soilstruct','soilmic']].sum(axis=1)\n",
    "\n",
    "Res_CH4 = pd.merge(Res_CH4, pools[['System','Biomass_nowood']])"
   ]
  },
  {
   "cell_type": "markdown",
   "metadata": {},
   "source": [
    "### Average annual air temperature from MERRA2"
   ]
  },
  {
   "cell_type": "code",
   "execution_count": 6,
   "metadata": {},
   "outputs": [],
   "source": [
    "Res_CH4['Temp'] = 0.0\n",
    "\n",
    "are_f = Dataset('../model inputs/Temperature_Data/T2M_annual.merra2.01x01.2015.nc')\n",
    "Temp_All = np.array(are_f.variables['GMAO_2D__T2M'])[0,:,:]   #181 rows, 361 columns  \n",
    "\n",
    "for reservoir in np.arange(len(Res_CH4)):\n",
    "\n",
    "    Lati = int((Res_CH4.loc[reservoir,'Latitude']+90))\n",
    "    Loni = int((Res_CH4.loc[reservoir,'Longitude']+180))\n",
    "\n",
    "    Res_CH4.loc[reservoir,'Temp'] = Temp_All[int(Lati/0.1),int(Loni/0.1)]  #need to divide by 0.1 here beause Temp_All is 10 times as big as other arrays!\n"
   ]
  },
  {
   "cell_type": "markdown",
   "metadata": {},
   "source": [
    "### Add incoming sediment transport from WBMSed output"
   ]
  },
  {
   "cell_type": "code",
   "execution_count": 7,
   "metadata": {
    "scrolled": true
   },
   "outputs": [],
   "source": [
    "years = ['2001','2002','2003','2004','2005','2006','2007','2008','2009','2010','2011','2012','2013','2015','2016','2017','2018','2019']\n",
    "\n",
    "data_mat = np.zeros((len(years), 1500, 3600))\n",
    "discharge_mat = np.zeros((len(years), 1500, 3600))\n",
    "for count, iyear in enumerate(years):\n",
    "\n",
    "    filename = glob.glob('../model inputs/WBMSed/SedFlux/Global_SedimentFlux' + '*' + iyear + '*')    #WBMSed model results provided by Sagy Cohen (from University of Alabama) upon request\n",
    "    filename_discharge = glob.glob('../model inputs/WBMSed/Discharge/Global_Discharge' + '*' + iyear + '*')   #WBMSed model results provided by Sagy Cohen (from University of Alabama) upon request\n",
    "    data = Dataset(filename[0])\n",
    "    data_discharge = Dataset(filename_discharge[0])\n",
    "\n",
    "    sed_flux= np.array(data.variables['SedimentFlux'])[:]\n",
    "    discharge = np.array(data_discharge.variables['discharge'][:])\n",
    "\n",
    "    data_mat[count,:,:] = sed_flux[0,:,:]\n",
    "    discharge_mat[count,:,:] = discharge[0,:,:]\n",
    "    \n",
    "    data_mat[data_mat == 0] = np.nan\n",
    "    data_mat[data_mat < 0] = np.nan\n",
    "    \n",
    "    discharge_mat[discharge_mat == 0] = np.nan  # probably not necessary any more - set zeros to nan so they don't get included in average later on\n",
    "    discharge_mat[discharge_mat < 0] = np.nan\n",
    "\n",
    "\n",
    "np.save('data_mat', data_mat)\n",
    "np.save('discharge_mat', discharge_mat)\n",
    "\n",
    "for reservoir in np.arange(len(Res_CH4)):\n",
    "    \n",
    "    #start by estimating TSS concentration in river\n",
    "    Lati = int((round(Res_CH4.loc[reservoir,'Latitude'],1)+60 )*10) #plus 60 here because latitudes go down to -60, round to 0.1 place bc that's the resolution of the data, *10 to get to integer\n",
    "    Loni = int((round(Res_CH4.loc[reservoir,'Longitude'],1)+180)*10)\n",
    "    \n",
    "    n = 5  # number of pixels to average in each direction\n",
    "\n",
    "    sed_transport = data_mat[:,(Lati-n):(Lati + n+1),(Loni-n):(Loni+n+1) ]  #sediment flux for all years, just the n pixels surrounding the lat/lon\n",
    "    discharge = discharge_mat[:,(Lati-n):(Lati + n+1),(Loni-n):(Loni+n+1) ] #all years, just the n pixels surrounding the lat/lon\n",
    "    discharge_sum_arr = np.nansum(np.nansum(discharge, axis=1), axis=1)  # discharge sum per pixel grouping per year\n",
    "    discharge_weighted = discharge / discharge_sum_arr[:,None,None]  #not 100% sure this works: https://stackoverflow.com/questions/19602187/numpy-divide-each-row-by-a-vector-element\n",
    "\n",
    "    annual_sed_flux = sed_transport * discharge_weighted  # first multiply the data by the weights for each year\n",
    "    annual_sed_flux = np.nansum(np.nansum(annual_sed_flux, axis = 1), axis = 1)  #then calculate annual sed_flux number (this line sums the weighted sediment flux across the n x n pixels in each of the 18 years)\n",
    "\n",
    "    Res_CH4.loc[reservoir,'TSS_wbmsed_avg'] = np.nanmean(annual_sed_flux)  #this is in kg/s\n",
    "    Res_CH4.loc[reservoir,'TSS_wbmsed_std'] = np.nanstd(annual_sed_flux)\n",
    "  \n",
    "    concentration = sed_transport/discharge * 1e6 / 1000 #in mg/L  sediment concentration in each pixel\n",
    "    concentration_weighted_mean = concentration * discharge_weighted\n",
    "    Qs_mgL = np.nansum(np.nansum(concentration_weighted_mean, axis = 1), axis = 1).mean()\n",
    "    Res_CH4.loc[reservoir,'Qs_mgL'] = Qs_mgL"
   ]
  },
  {
   "cell_type": "markdown",
   "metadata": {},
   "source": [
    "## Estimate littoral area percentage"
   ]
  },
  {
   "cell_type": "code",
   "execution_count": 8,
   "metadata": {},
   "outputs": [],
   "source": [
    "Res_CH4['bath_shape'] = Res_CH4.DAM_HGT_M/Res_CH4.Mean_Depth_m - 1   #method from G-res technical documentation, https://www.hydropower.org/publications/the-ghg-reservoir-tool-g-res-technical-documentation\n",
    "Res_CH4['littoral_area'] = (1 - (1 - 3/Res_CH4['DAM_HGT_M'])**Res_CH4['bath_shape'])*100   #method from G-res technical documentation, https://www.hydropower.org/publications/the-ghg-reservoir-tool-g-res-technical-documentation\n",
    "Res_CH4['littoral_area'].fillna(50, inplace = True)\n"
   ]
  },
  {
   "cell_type": "markdown",
   "metadata": {},
   "source": [
    "# Carbon input estimates"
   ]
  },
  {
   "cell_type": "markdown",
   "metadata": {},
   "source": [
    "### Estimate primary production based on trophic status"
   ]
  },
  {
   "cell_type": "code",
   "execution_count": 9,
   "metadata": {},
   "outputs": [],
   "source": [
    "#Estimate primary production using trophic status from Deemer paper and my background research\n",
    "Res_CH4['Primary_Prod'] = 0.0\n",
    "\n",
    "primeprod = np.array([150, 0.5*(150+600), 600, 0.5*(600 + 2000), 2000]) #based on reservoir values in Table 15-12 of Wetzel:\n",
    "\n",
    "Res_CH4.loc[Res_CH4.Trophic_Status == 'Oligotrophic', 'Primary_Prod'] = primeprod[0]   # mg C / m2/day\n",
    "Res_CH4.loc[Res_CH4.Trophic_Status == 'Oligo_Meso', 'Primary_Prod'] = primeprod[1]   # mg C / m2/day\n",
    "Res_CH4.loc[Res_CH4.Trophic_Status == 'Mesotrophic', 'Primary_Prod'] = primeprod[2]   # mg C / m2/day\n",
    "Res_CH4.loc[Res_CH4.Trophic_Status == 'Meso_Eutrophic', 'Primary_Prod'] = primeprod[3]   # mg C / m2/day\n",
    "Res_CH4.loc[Res_CH4.Trophic_Status == 'Eutrophic', 'Primary_Prod'] = primeprod[4]   # mg C / m2/day\n",
    "                  "
   ]
  },
  {
   "cell_type": "markdown",
   "metadata": {},
   "source": [
    "### Estimate POC and DOC rates based on Meybeck data"
   ]
  },
  {
   "cell_type": "markdown",
   "metadata": {},
   "source": [
    "#### Define function to estimate POC as fraction of suspended sediment matter"
   ]
  },
  {
   "cell_type": "code",
   "execution_count": 10,
   "metadata": {},
   "outputs": [
    {
     "name": "stderr",
     "output_type": "stream",
     "text": [
      "C:\\Users\\Owner\\Anaconda3\\envs\\InterannualAnalysis\\lib\\site-packages\\statsmodels\\tsa\\tsatools.py:142: FutureWarning: In a future version of pandas all arguments of concat except for the argument 'objs' will be keyword-only\n",
      "  x = pd.concat(x[::order], 1)\n"
     ]
    },
    {
     "data": {
      "text/plain": [
       "[<matplotlib.lines.Line2D at 0x246288c7160>]"
      ]
     },
     "execution_count": 10,
     "metadata": {},
     "output_type": "execute_result"
    },
    {
     "data": {
      "image/png": "[encoded data removed]",
      "text/plain": [
       "<Figure size 432x288 with 1 Axes>"
      ]
     },
     "metadata": {
      "needs_background": "light"
     },
     "output_type": "display_data"
    }
   ],
   "source": [
    "POC_meybeck = pd.read_excel('../model inputs/Meybeck_loadings.xlsx',sheet_name = 'Fig1')\n",
    "# DOC_to_TOC_meybeck = pd.read_excel('../model inputs/Meybeck_loadings.xlsx',sheet_name = 'Fig2')\n",
    "\n",
    "plt.scatter(POC_meybeck.Suspended_matter_mg_l, POC_meybeck.POC_perc)\n",
    "plt.ylabel('POC as % of suspended matter')\n",
    "plt.xlabel('Suspended matter (mg/L)')\n",
    "plt.semilogx()\n",
    "plt.semilogy()\n",
    "\n",
    "# define equation to estimate % POC of total suspended matter\n",
    "log_suspended_matter = np.log(POC_meybeck.Suspended_matter_mg_l)  #x value\n",
    "log_POC_perc = np.log(POC_meybeck.POC_perc)  #y value\n",
    "log_suspended_matter = sm.add_constant(log_suspended_matter)  #add a constant intercept so I am not forcing through 0,0\n",
    "model1 = sm.OLS(log_POC_perc,  log_suspended_matter, hasconstant = True).fit()   #(y,x)\n",
    "y1 = model1.params\n",
    "\n",
    "def poc_perc(x):\n",
    "    y = np.exp(y1[0])*np.exp(y1[1]*np.log(x))\n",
    "    if y > 50:\n",
    "        y = 50\n",
    "    \n",
    "    return y\n",
    "\n",
    "\n",
    "x = np.arange(1, 10000)\n",
    "plt.ylim(0.05, 900)\n",
    "plt.plot(x,np.exp(y1[0])*np.exp(y1[1]*np.log(x)), 'k')\n"
   ]
  },
  {
   "cell_type": "markdown",
   "metadata": {},
   "source": [
    "#### Define function to estimate DOC as a fraction of TOC"
   ]
  },
  {
   "cell_type": "code",
   "execution_count": 11,
   "metadata": {},
   "outputs": [
    {
     "name": "stderr",
     "output_type": "stream",
     "text": [
      "C:\\Users\\Owner\\Anaconda3\\envs\\InterannualAnalysis\\lib\\site-packages\\statsmodels\\tsa\\tsatools.py:142: FutureWarning: In a future version of pandas all arguments of concat except for the argument 'objs' will be keyword-only\n",
      "  x = pd.concat(x[::order], 1)\n"
     ]
    },
    {
     "data": {
      "text/plain": [
       "[<matplotlib.lines.Line2D at 0x2462973a070>]"
      ]
     },
     "execution_count": 11,
     "metadata": {},
     "output_type": "execute_result"
    },
    {
     "data": {
      "image/png": "[encoded data removed]",
      "text/plain": [
       "<Figure size 432x288 with 1 Axes>"
      ]
     },
     "metadata": {
      "needs_background": "light"
     },
     "output_type": "display_data"
    }
   ],
   "source": [
    "DOC_to_TOC_meybeck = pd.read_excel('../model inputs/Meybeck_loadings.xlsx',sheet_name = 'Fig2')\n",
    "DOC_to_TOC_meybeck.head(3)\n",
    "\n",
    "plt.scatter(DOC_to_TOC_meybeck.Suspended_matter_mg_l, DOC_to_TOC_meybeck.DOC_to_TOC_perc)\n",
    "plt.ylabel('DOC to TOC ratio')\n",
    "plt.xlabel('Suspended matter (mg/L)')\n",
    "plt.semilogx()\n",
    "\n",
    "\n",
    "# define equation to estimate % POC of total suspended matter\n",
    "log_suspended_matter = np.log(DOC_to_TOC_meybeck.Suspended_matter_mg_l)  #x value\n",
    "log_DOC_to_TOC = DOC_to_TOC_meybeck.DOC_to_TOC_perc  #y value\n",
    "log_suspended_matter = sm.add_constant(log_suspended_matter)  #add a constant intercept so I am not forcing through 0,0\n",
    "model2 = sm.OLS(log_DOC_to_TOC,  log_suspended_matter, hasconstant = True).fit()   #(y,x)\n",
    "y2 = model2.params\n",
    "\n",
    "def doc_to_toc_perc(x):\n",
    "\n",
    "    y = np.log(x)*y2[1] + y2[0]\n",
    "    \n",
    "    #set upper and lower bounds\n",
    "    if y > 95:   #fraction of DOC to TOC cannot exceed 1, default to 0.95 so there is always at least a small amt of DOC entering  \n",
    "        y = 95\n",
    "    if y < 5:\n",
    "        y = 5\n",
    "    return y\n",
    "\n",
    "x = np.arange(1, 10000)\n",
    "plt.ylim(1, 150)\n",
    "plt.plot(x,np.log(x)*y2[1] + y2[0], 'k')\n"
   ]
  },
  {
   "cell_type": "markdown",
   "metadata": {},
   "source": [
    "### Calculate allochthonous POC and DOC inputs"
   ]
  },
  {
   "cell_type": "code",
   "execution_count": 12,
   "metadata": {},
   "outputs": [],
   "source": [
    "#Estimate temperature-dependent flocculation rate.\n",
    "\n",
    "temps = [4, 10, 20]\n",
    "floc_rate = np.array([3.4, 8.8, 11.0])/25/1000  #flocculation rate in ratio lost per day (x100 for % lost per day) (Table 2 in Wachenfeldt), 25mg/L is ~ starting DOC value\n",
    "slope, intercept, r_value, p_value, std_err = stats.linregress(temps,floc_rate)\n",
    "\n",
    "\n",
    "for reservoir in np.arange(len(Res_CH4)):\n",
    "    \n",
    "\n",
    "    Lati = int((round(Res_CH4.loc[reservoir,'Latitude'],1)+60 )*10) #plus 60 here because latitudes go down to -60, round to 0.1 place bc that's the resolution of the data, *10 to get to integer\n",
    "    Loni = int((round(Res_CH4.loc[reservoir,'Longitude'],1)+180)*10)\n",
    "       \n",
    "    Qs_mgL = Res_CH4.loc[reservoir,'Qs_mgL']  #value from WBMSed results\n",
    "        \n",
    "    Res_CH4.loc[reservoir,'ALLOC_POC'] = poc_perc(Qs_mgL)/100 * Qs_mgL * 1000 * Res_CH4.loc[reservoir,'Volume_km3'] * 1000**3 /  (Res_CH4.loc[reservoir,'Residence_Time_days']/365 ) / (Res_CH4.loc[reservoir,'Surface_Area_km2'] * 1000**2) \n",
    "    Res_CH4.loc[reservoir,'ALLOC_DOC'] = doc_to_toc_perc(Qs_mgL)/100 * Res_CH4.loc[reservoir,'ALLOC_POC'] / (1-doc_to_toc_perc(Qs_mgL)/100)  #mg/m2/year\n",
    "    Res_CH4.loc[reservoir,'ALLOC_POC_inflow_mg_l'] = Res_CH4.loc[reservoir, 'Qs_mgL']* poc_perc(Res_CH4.loc[reservoir, 'Qs_mgL'])/100   #    \n",
    "    \n",
    "    \n",
    "    #Now estimate DOC transport to sediment via flocculation\n",
    "    Res_CH4.loc[reservoir,'flocc_rate'] = slope*(Res_CH4.loc[reservoir,'Temp']-273) + intercept   #daily flocculation rate, slope, intercept determined in cell above\n",
    "    Res_CH4.loc[reservoir,'ALLOC_DOC'] = Res_CH4.loc[reservoir,'ALLOC_DOC'] * (Res_CH4.loc[reservoir,'flocc_rate']*365) #mg/m2/year\n",
    "    \n",
    "    #Estimate trapping efficiency for reservoirs larger than 0.5 km3, see Vorosmarty et al.\n",
    "    Res_CH4.loc[reservoir,'Trap_eff'] = 0.3  #30% global estimate is also from Vorosmarty\n",
    "    \n",
    "    if Res_CH4.loc[reservoir,'Volume_km3'] > 0.5:\n",
    "        Res_CH4.loc[reservoir,'Trap_eff'] = 1-(0.05/((Res_CH4.loc[reservoir,'Residence_Time_days']/365)**0.5))\n",
    "\n",
    "\n",
    "Res_CH4['ALLOC_DOC'] = Res_CH4['ALLOC_DOC'] * Res_CH4['Trap_eff']/365  #convert from years to days, result in mg/m2/day\n",
    "Res_CH4['ALLOC_POC'] = Res_CH4['ALLOC_POC'] * Res_CH4['Trap_eff']/365 #mg/m2/day\n"
   ]
  },
  {
   "cell_type": "markdown",
   "metadata": {},
   "source": [
    "# Run ResME to estimate total methane production from each carbon type"
   ]
  },
  {
   "cell_type": "code",
   "execution_count": 13,
   "metadata": {},
   "outputs": [
    {
     "name": "stdout",
     "output_type": "stream",
     "text": [
      "Allatoona\n",
      "Balbina\n",
      "Barra Bonita\n",
      "Batang Ai\n",
      "Cahora Bassa\n",
      "Capivari\n",
      "Cle Elum\n",
      "Corumba\n",
      "Cos\n",
      "Curua-Una\n",
      "Douglas\n",
      "Eastmain 1\n",
      "Eguzon\n",
      "Fontana\n",
      "Foster\n",
      "Funil\n",
      "Furnas\n",
      "Gatun\n",
      "Grandes Patures\n",
      "Grangent\n",
      "Guntersville\n",
      "Hartwell\n",
      "Itaipu\n",
      "Itaparica\n",
      "Itumbiara\n",
      "JC Boyle\n",
      "Kariba\n",
      "Laforge-1\n",
      "Lokka\n",
      "Lower Monumental\n",
      "Manso\n",
      "Maury\n",
      "Miranda\n",
      "Nam Leuk\n",
      "Nam Ngum\n",
      "Nam Theun 2\n",
      "Nielisz\n",
      "Pampulha\n",
      "Passouira\n",
      "Petit Saut\n",
      "Polyfytos\n",
      "Priest Rapids\n",
      "Quinson\n",
      "Robert-Bourassa (La Grande-2)\n",
      "Saint Egreve\n",
      "Segredo\n",
      "Serra da Mesa\n",
      "Trablettes\n",
      "Tres Marias\n",
      "Tucurui\n",
      "Villefranche\n",
      "Watts Bar\n",
      "Wohlen\n",
      "Xingo\n"
     ]
    }
   ],
   "source": [
    "methane_factor = 0.35   #fraction of carbon decayed to methane vs CO2\n",
    "\n",
    "\n",
    "# Parameters extracted based on data in Grasset et al., 2018 \"Large but variable methane production in anoxic freshwater sediment upon addition of allochthonous and autochthonous organic matter\"\n",
    "alpha_auto = 0.61961095\n",
    "v_auto = 0.460240\n",
    "\n",
    "v_bio = 0.15232051\n",
    "alpha_bio =  0.9171205516\n",
    "\n",
    "v_alloc = v_bio\n",
    "alpha_alloc = alpha_bio\n",
    "\n",
    "\n",
    "#initialize arrays used in model\n",
    "monthly_C_Auto_decay_epi = [0, 0, 0, 0, 0, 0, 0, 0, 0, 0, 0, 0]\n",
    "monthly_C_Auto_decay_hypo = [0, 0, 0, 0, 0, 0, 0, 0, 0, 0, 0, 0]\n",
    "\n",
    "monthly_C_Alloc_DOC_decay_epi =[0, 0, 0, 0, 0, 0, 0, 0, 0, 0, 0, 0]\n",
    "monthly_C_Alloc_DOC_decay_hypo = [0, 0, 0, 0, 0, 0, 0, 0, 0, 0, 0, 0]\n",
    "\n",
    "monthly_C_Alloc_POC_decay_epi = [0, 0, 0, 0, 0, 0, 0, 0, 0, 0, 0, 0]\n",
    "monthly_C_Alloc_POC_decay_hypo = [0, 0, 0, 0, 0, 0, 0, 0, 0, 0, 0, 0]\n",
    "\n",
    "monthly_C_Bio_decay_epi = [0, 0, 0, 0, 0, 0, 0, 0, 0, 0, 0, 0]\n",
    "monthly_C_Bio_decay_hypo = [0, 0, 0, 0, 0, 0, 0, 0, 0, 0, 0, 0]\n",
    "\n",
    "monthly_auto_all =  [0, 0, 0, 0, 0, 0, 0, 0, 0, 0, 0, 0]\n",
    "monthly_alloc_DOC_all =  [0, 0, 0, 0, 0, 0, 0, 0, 0, 0, 0, 0]\n",
    "monthly_alloc_POC_all =  [0, 0, 0, 0, 0, 0, 0, 0, 0, 0, 0, 0]\n",
    "monthly_bio_all =  [0, 0, 0, 0, 0, 0, 0, 0, 0, 0, 0, 0]\n",
    "\n",
    "\n",
    "#**********   MODEL CALCULATIONS   **************************************************************\n",
    "\n",
    "for ires in np.arange(len(Res_CH4)): \n",
    "\n",
    "    numyears = round(Res_CH4.loc[ires,'Age_yrs'])\n",
    "    system = Res_CH4.loc[ires,'System']\n",
    "    months = int(numyears*12)                                   \n",
    "    print(system)   \n",
    "\n",
    "    #****************Initialize arrays used for each reservoir************************************************\n",
    "    \n",
    "    Yearly_Auto_decay_epi = np.zeros(int(numyears))    \n",
    "    Yearly_Auto_decay_hypo = np.zeros(int(numyears))   \n",
    "    Yearly_Alloc_DOC_decay_epi = np.zeros(int(numyears))    \n",
    "    Yearly_Alloc_DOC_decay_hypo = np.zeros(int(numyears))   \n",
    "    Yearly_Alloc_POC_decay_epi = np.zeros(int(numyears))    \n",
    "    Yearly_Alloc_POC_decay_hypo = np.zeros(int(numyears))   \n",
    "    Yearly_Bio_decay_epi = np.zeros(int(numyears))    \n",
    "    Yearly_Bio_decay_hypo = np.zeros(int(numyears))   \n",
    "\n",
    "    C_Auto_stock_epi = np.zeros(months + 1)\n",
    "    C_Auto_decay_epi = np.zeros(12)   \n",
    "    C_Auto_stock_hypo = np.zeros(months + 1)\n",
    "    C_Auto_decay_hypo = np.zeros(12) \n",
    "    \n",
    "    C_Alloc_DOC_stock_epi = np.zeros(months + 1)\n",
    "    C_Alloc_DOC_decay_epi = np.zeros(12)   \n",
    "    C_Alloc_DOC_stock_hypo = np.zeros(months + 1)\n",
    "    C_Alloc_DOC_decay_hypo = np.zeros(12) \n",
    "    \n",
    "    C_Alloc_POC_stock_epi = np.zeros(months + 1)\n",
    "    C_Alloc_POC_decay_epi = np.zeros(12)   \n",
    "    C_Alloc_POC_stock_hypo = np.zeros(months + 1)\n",
    "    C_Alloc_POC_decay_hypo = np.zeros(12) \n",
    "    \n",
    "    C_Bio_stock_epi = np.zeros(months + 1)\n",
    "    C_Bio_decay_epi = np.zeros(12)    \n",
    "    C_Bio_stock_hypo = np.zeros(months + 1)\n",
    "    C_Bio_decay_hypo = np.zeros(12)       \n",
    "\n",
    "    #************** Calculate decay parameters for each month and each carbon type****************************\n",
    "    \n",
    "    k_auto_vec = v_auto/(alpha_auto + np.arange(months+1))  #create vector of decay rate for carbon of every age\n",
    "    k_alloc_vec = v_alloc/(alpha_alloc + np.arange(months+1))  #create vector of decay rate for carbon of every age \n",
    "    k_bio_vec = v_bio/(alpha_bio + np.arange(months+1))  #create vector of decay rate for carbon of every age \n",
    "\n",
    "\n",
    "    #************** Extract monthly carbon loading for allochthonous and autochthonous carbon, and single-time loading for flooded biomass *****************\n",
    "    \n",
    "    Auto_loading = Res_CH4.loc[ires,'Primary_Prod'] * (365/12)  #mgC/m2/month       \n",
    "    Auto_loading = 0.4 * Auto_loading                           #assume 30% of primary production reaches sediment \n",
    "      \n",
    "    Alloc_DOC_loading = Res_CH4.loc[ires,'ALLOC_DOC']  * (365/12)  #mgC/m2/month\n",
    "    Alloc_POC_loading = Res_CH4.loc[ires,'ALLOC_POC']  * (365/12)  #mgC/m2/month\n",
    "    Biomass_loading = Res_CH4.loc[ires,'Biomass_nowood']           #mgC/m2\n",
    "\n",
    "    #account for fraction of incoming carbon that gets converted to CO2\n",
    "    Auto_loading = Auto_loading * methane_factor\n",
    "    Alloc_DOC_loading = Alloc_DOC_loading * methane_factor\n",
    "    Alloc_POC_loading = Alloc_POC_loading * methane_factor\n",
    "    Biomass_loading = Biomass_loading * methane_factor\n",
    "    \n",
    "    C_Bio_stock_epi[0] = Biomass_loading\n",
    "    C_Bio_stock_hypo[0] = Biomass_loading\n",
    "\n",
    "#**********************************************************************************\n",
    "\n",
    "    #initialize place-keeping variables\n",
    "    check_month = 0     #start off in month 0, January\n",
    "    year_counter = 0  \n",
    "\n",
    "    month_mapping = ['Jan','Feb','Mar','Apr','May','Jun','Jul','Aug','Sep','Oct','Nov','Dec']\n",
    "    \n",
    "    \n",
    "    for imonth in np.arange(12*numyears):\n",
    "        \n",
    "        #********************** Get water temperatures*****************\n",
    "        month = month_mapping[check_month]\n",
    "        temp_epi = Res_CH4.loc[ires,month + '_epi_temp'] - 273       #Celsius\n",
    "        temp_hypo = Res_CH4.loc[ires,month + '_bottom_temp'] - 273   #Celsius\n",
    "\n",
    "      #************ First calculate monthly decay*********************\n",
    "       \n",
    "        C_Auto_decay_epi[check_month] = sum(C_Auto_stock_epi*k_auto_vec*1.07**(int(temp_epi)-20))                #mg C/m2/day \n",
    "        C_Auto_decay_hypo[check_month] = sum(C_Auto_stock_hypo*k_auto_vec*1.07**(int(temp_hypo)-20))             #mg C/m2/day \n",
    "        C_Alloc_DOC_decay_epi[check_month] = sum(C_Alloc_DOC_stock_epi*k_alloc_vec*1.07**(int(temp_epi)-20))     #mg C/m2/day \n",
    "        C_Alloc_DOC_decay_hypo[check_month] = sum(C_Alloc_DOC_stock_hypo*k_alloc_vec*1.07**(int(temp_hypo)-20))  #mg C/m2/day \n",
    "        C_Alloc_POC_decay_epi[check_month] = sum(C_Alloc_POC_stock_epi*k_alloc_vec*1.07**(int(temp_epi)-20))     #mg C/m2/day \n",
    "        C_Alloc_POC_decay_hypo[check_month] = sum(C_Alloc_POC_stock_hypo*k_alloc_vec*1.07**(int(temp_hypo)-20))  #mg C/m2/day \n",
    "        C_Bio_decay_epi[check_month] = sum(C_Bio_stock_epi*k_bio_vec*1.07**(int(temp_epi)-20))                   #mg C/m2/day \n",
    "        C_Bio_decay_hypo[check_month] = sum(C_Bio_stock_hypo*k_bio_vec*1.07**(int(temp_hypo)-20))                #mg C/m2/day \n",
    "        \n",
    "\n",
    "     #************ Then update vector for following month***************\n",
    "\n",
    "\n",
    "        C_Auto_stock_epi = C_Auto_stock_epi - C_Auto_stock_epi*k_auto_vec*1.07**(int(temp_epi)-20)       #mg C/m2/day \n",
    "        C_Auto_stock_epi = np.roll(C_Auto_stock_epi, 1)\n",
    "        C_Auto_stock_epi[0] = Auto_loading   #New carbon input every month, mg C/m2/day \n",
    "        C_Auto_stock_hypo = C_Auto_stock_hypo - C_Auto_stock_hypo*k_auto_vec*1.07**(int(temp_hypo)-20)   #mg C/m2/day \n",
    "        C_Auto_stock_hypo = np.roll(C_Auto_stock_hypo, 1)\n",
    "        C_Auto_stock_hypo[0] = Auto_loading   #New carbon input every month, mg C/m2/day \n",
    "        \n",
    "        C_Alloc_DOC_stock_epi = C_Alloc_DOC_stock_epi - C_Alloc_DOC_stock_epi*k_alloc_vec*1.07**(int(temp_epi)-20)       #mg C/m2/day \n",
    "        C_Alloc_DOC_stock_epi = np.roll(C_Alloc_DOC_stock_epi, 1)\n",
    "        C_Alloc_DOC_stock_epi[0] = Alloc_DOC_loading     #New carbon input every month, mg C/m2/day \n",
    "        C_Alloc_DOC_stock_hypo = C_Alloc_DOC_stock_hypo - C_Alloc_DOC_stock_hypo*k_alloc_vec*1.07**(int(temp_hypo)-20)   #mg C/m2/day \n",
    "        C_Alloc_DOC_stock_hypo = np.roll(C_Alloc_DOC_stock_hypo, 1)\n",
    "        C_Alloc_DOC_stock_hypo[0] = Alloc_DOC_loading     #New carbon input every month, mg C/m2/day \n",
    "        \n",
    "        C_Alloc_POC_stock_epi = C_Alloc_POC_stock_epi - C_Alloc_POC_stock_epi*k_alloc_vec*1.07**(int(temp_epi)-20)       #mg C/m2/day \n",
    "        C_Alloc_POC_stock_epi = np.roll(C_Alloc_POC_stock_epi, 1)\n",
    "        C_Alloc_POC_stock_epi[0] = Alloc_POC_loading   #New carbon input every month, mg C/m2/day \n",
    "        C_Alloc_POC_stock_hypo = C_Alloc_POC_stock_hypo - C_Alloc_POC_stock_hypo*k_alloc_vec*1.07**(int(temp_hypo)-20)   #mg C/m2/day \n",
    "        C_Alloc_POC_stock_hypo = np.roll(C_Alloc_POC_stock_hypo, 1)\n",
    "        C_Alloc_POC_stock_hypo[0] = Alloc_POC_loading   #New carbon input every month, mg C/m2/day  \n",
    "          \n",
    "        C_Bio_stock_epi = C_Bio_stock_epi - C_Bio_stock_epi*k_bio_vec*1.07**(int(temp_epi)-20)       #mg C/m2/day\n",
    "        C_Bio_stock_epi = np.roll(C_Bio_stock_epi, 1)\n",
    "        C_Bio_stock_epi[0] = 0   #no additional loading after month 1!\n",
    "        C_Bio_stock_hypo = C_Bio_stock_hypo - C_Bio_stock_hypo*k_bio_vec*1.07**(int(temp_hypo)-20)   #mg C/m2/day \n",
    "        C_Bio_stock_hypo = np.roll(C_Bio_stock_hypo, 1)\n",
    "        C_Bio_stock_hypo[0] = 0   #no additional loading after month 1!\n",
    "\n",
    "\n",
    "        check_month += 1   #increment month counter by one (keeping track of month within each year)\n",
    "\n",
    "     #************ sum carbon over all carbon age pools to get a total carbon value per year of reservoir life***************\n",
    "\n",
    "        if check_month == 12:   #have reached end of year\n",
    "            Yearly_Auto_decay_epi[year_counter] = sum(C_Auto_decay_epi)  #mg C/m2/year\n",
    "            Yearly_Auto_decay_hypo[year_counter] = sum(C_Auto_decay_hypo)  #mg C/m2/year\n",
    "            Yearly_Alloc_DOC_decay_epi[year_counter] = sum(C_Alloc_DOC_decay_epi)  #mg C/m2/year\n",
    "            Yearly_Alloc_DOC_decay_hypo[year_counter] = sum(C_Alloc_DOC_decay_hypo)  #mg C/m2/year\n",
    "            Yearly_Alloc_POC_decay_epi[year_counter] = sum(C_Alloc_POC_decay_epi)  #mg C/m2/year\n",
    "            Yearly_Alloc_POC_decay_hypo[year_counter] = sum(C_Alloc_POC_decay_hypo)  #mg C/m2/year\n",
    "            Yearly_Bio_decay_epi[year_counter] = sum(C_Bio_decay_epi)  #mg C/m2/year\n",
    "            Yearly_Bio_decay_hypo[year_counter] = sum(C_Bio_decay_hypo)  #mg C/m2/year\n",
    "          \n",
    "            #save these values to use after loop\n",
    "            C_Auto_decay_epi_archive =  C_Auto_decay_epi   #mg C/m2/month\n",
    "            C_Auto_decay_hypo_archive = C_Auto_decay_hypo  \n",
    "            C_Alloc_DOC_decay_epi_archive = C_Alloc_DOC_decay_epi   \n",
    "            C_Alloc_DOC_decay_hypo_archive = C_Alloc_DOC_decay_hypo   \n",
    "            C_Alloc_POC_decay_epi_archive = C_Alloc_POC_decay_epi \n",
    "            C_Alloc_POC_decay_hypo_archive = C_Alloc_POC_decay_hypo \n",
    "            C_Bio_decay_epi_archive = C_Bio_decay_epi \n",
    "            C_Bio_decay_hypo_archive = C_Bio_decay_hypo \n",
    "            \n",
    "            #reset these to zero\n",
    "            C_Auto_decay_epi = np.zeros(12)   \n",
    "            C_Auto_decay_hypo = np.zeros(12)   \n",
    "            C_Alloc_DOC_decay_epi = np.zeros(12)  \n",
    "            C_Alloc_DOC_decay_hypo = np.zeros(12)  \n",
    "            C_Alloc_POC_decay_epi = np.zeros(12)  \n",
    "            C_Alloc_POC_decay_hypo = np.zeros(12)  \n",
    "            C_Bio_decay_epi = np.zeros(12)  \n",
    "            C_Bio_decay_hypo = np.zeros(12)  \n",
    "            \n",
    "            check_month = 0  #reset to zero because we are starting new month            \n",
    "            year_counter += 1\n",
    "\n",
    "  \n",
    "    #***************Finished looping through all months**************************************\n",
    "    #***Now calculate methane production in most recent year*********************************\n",
    "    \n",
    "    \n",
    "    epi_area_param = Res_CH4.loc[ires,'SA_epi_frac']\n",
    "    if epi_area_param == 0.0:\n",
    "        epi_area_param = Res_CH4.loc[ires,'littoral_area']/100\n",
    "    hypo_area_param = 1 - epi_area_param \n",
    "    \n",
    "    \n",
    "    #*************** calculate total DAILY methane production********************************\n",
    "    Total_prod_alloc_DOC = (epi_area_param *Yearly_Alloc_DOC_decay_epi[-1]/365 \\\n",
    "                                                                            + hypo_area_param * Yearly_Alloc_DOC_decay_hypo[-1]/365)  # mg/m2/day  \n",
    "    Total_prod_alloc_POC = (epi_area_param *Yearly_Alloc_POC_decay_epi[-1]/365 \\\n",
    "                                                                            + hypo_area_param * Yearly_Alloc_POC_decay_hypo[-1]/365)  # mg/m2/day\n",
    "    Total_prod_auto = (epi_area_param *Yearly_Auto_decay_epi[-1]/365 \\\n",
    "                                                                            + hypo_area_param * Yearly_Auto_decay_hypo[-1]/365)       # mg/m2/day\n",
    "    Total_prod_bio = (epi_area_param *Yearly_Bio_decay_epi[-1]/365 \\\n",
    "                                                                            + hypo_area_param * Yearly_Bio_decay_hypo[-1]/365)        # mg/m2/day\n",
    "    \n",
    "    \n",
    "    Res_CH4.loc[ires,'Auto_flux'] = Total_prod_auto           # mg/m2/day \n",
    "    Res_CH4.loc[ires,'Alloc_DOC_flux'] = Total_prod_alloc_DOC # mg/m2/day \n",
    "    Res_CH4.loc[ires,'Alloc_POC_flux'] = Total_prod_alloc_POC # mg/m2/day \n",
    "    Res_CH4.loc[ires,'Biomass_flux'] = Total_prod_bio         # mg/m2/day \n",
    "\n",
    "    #********************* save the monthly output for the final year ********************************   \n",
    "    monthly_auto = (epi_area_param *C_Auto_decay_epi_archive + hypo_area_param * C_Auto_decay_hypo_archive)                #mg C/m2/month\n",
    "    monthly_alloc_POC = (epi_area_param *C_Alloc_POC_decay_epi_archive + hypo_area_param * C_Alloc_POC_decay_hypo_archive) #mg C/m2/month\n",
    "    monthly_alloc_DOC = (epi_area_param *C_Alloc_DOC_decay_epi_archive + hypo_area_param * C_Alloc_DOC_decay_hypo_archive) #mg C/m2/month \n",
    "    monthly_bio = (epi_area_param *C_Bio_decay_epi_archive + hypo_area_param * C_Bio_decay_hypo_archive)                   #mg C/m2/month\n",
    "    \n",
    "    #*********************** combine monthly outputs from each reservoir********************************\n",
    "    monthly_auto_all = np.vstack((monthly_auto_all, monthly_auto))                 #mg C/m2\n",
    "    monthly_alloc_POC_all = np.vstack((monthly_alloc_POC_all, monthly_alloc_POC))  #mg C/m2\n",
    "    monthly_alloc_DOC_all = np.vstack((monthly_alloc_DOC_all, monthly_alloc_DOC))  #mg C/m2\n",
    "    monthly_bio_all = np.vstack((monthly_bio_all, monthly_bio))                    #mg C/m2\n",
    "          \n",
    "    "
   ]
  },
  {
   "cell_type": "markdown",
   "metadata": {},
   "source": [
    "## Calculate ebullition and diffusion from model results"
   ]
  },
  {
   "cell_type": "code",
   "execution_count": 14,
   "metadata": {},
   "outputs": [],
   "source": [
    "base_diff = 0.8   \n",
    "max_diff = 0.15\n",
    "\n",
    "for reservoir in np.arange(len(Res_CH4)):\n",
    "\n",
    "    if Res_CH4.loc[reservoir,'Mean_Depth_m']< 60:   \n",
    "        Res_CH4.loc[reservoir,'fd'] = max_diff* (Res_CH4.loc[reservoir,'Mean_Depth_m']/60)  \n",
    "    else:\n",
    "        Res_CH4.loc[reservoir,'fd'] = max_diff\n",
    "\n",
    "#see manuscript for equation, all values in mgC/m2/day\n",
    "Res_CH4['Eb_plus_Diff_all'] = (Res_CH4['Auto_flux'] + Res_CH4['Biomass_flux'] + Res_CH4['Alloc_POC_flux'] + Res_CH4['Alloc_DOC_flux'])/1.16 * (1-(base_diff+Res_CH4['fd']))\n"
   ]
  },
  {
   "cell_type": "markdown",
   "metadata": {},
   "source": [
    "## Estimate dam emissions"
   ]
  },
  {
   "cell_type": "code",
   "execution_count": 15,
   "metadata": {},
   "outputs": [
    {
     "name": "stdout",
     "output_type": "stream",
     "text": [
      "     System  total_annual_Gg_yr  5month_max_Gg_yr\n",
      "49  Tucurui          465.100099        199.670567\n",
      "    System  total_annual_Gg_yr  5month_max_Gg_yr\n",
      "1  Balbina           43.156328         18.736205\n",
      "        System  total_annual_Gg_yr  5month_max_Gg_yr\n",
      "39  Petit Saut           14.295318          6.138336\n",
      "      System  total_annual_Gg_yr  5month_max_Gg_yr\n",
      "3  Batang Ai            0.903576          0.378969\n"
     ]
    }
   ],
   "source": [
    "#********************* reformat monthly CH4 production***************\n",
    "all_monthly = monthly_alloc_DOC_all + monthly_alloc_POC_all + monthly_bio_all + monthly_auto_all\n",
    "all_monthly = pd.DataFrame(all_monthly , columns = ['jan','feb','march','april','may','jun','jul','aug','sep','oct','nov','dec'])\n",
    "all_monthly = all_monthly.drop([0])\n",
    "all_monthly.reset_index(inplace = True, drop = True)\n",
    "all_monthly['System'] = Res_CH4['System']  \n",
    "all_monthly = all_monthly[ ['System'] + [ col for col in all_monthly.columns if col != 'System' ] ]  #move System column to front\n",
    "\n",
    "\n",
    "#******************** convert CH4 production estimate to estimated dam emissions***************************\n",
    "all_monthly_dam = all_monthly.copy()\n",
    "all_monthly_dam.iloc[:,1:] = all_monthly_dam.iloc[:,1:].multiply((Res_CH4.loc[:, 'fd']+ base_diff), axis=\"index\")# \n",
    "\n",
    "#_________________________________________________________________________________\n",
    "## Now create 2 estimates.  One dam estimate if reservoir were stratified the entire year, one if reservoir were stratified 5 months (surrounding the peak production month)\n",
    "\n",
    "#*********** Estimate maximum dam emissions assuming year-round stratification*********************\n",
    "all_monthly_dam['Annual_max'] = all_monthly_dam.iloc[:, 1:].sum(axis=1)\n",
    "\n",
    "\n",
    "#*********** Estimate dam emissions for the 5 months surrounding peak water temperature*********\n",
    "all_monthly_dam['Max_month'] = all_monthly_dam.iloc[:,1:-1].idxmax(axis = 1)   #get column ID for month of maximum dam emissions (which should will coincide with maximum temperature)\n",
    "\n",
    "for irow in np.arange(len(all_monthly_dam)):\n",
    "\n",
    "    max_col = (all_monthly_dam.loc[irow,'Max_month'])\n",
    "    idx = all_monthly_dam.columns.get_loc(max_col)\n",
    "    if (idx > 2) & (idx < 11): #if maximum month is between march and oct, summation is easy:\n",
    "        all_monthly_dam.loc[irow,'5month_max'] = all_monthly_dam.iloc[irow,idx-2:idx+3].sum()  #This includes 2 months before and after the \"idx\" month of maximum CH4 production\n",
    "        \n",
    "    #special cases summation (wrapping months)\n",
    "    if idx == 1:  # month of January\n",
    "        all_monthly_dam.loc[irow,'5month_max'] = all_monthly_dam.loc[irow,['nov','dec','jan','feb','march']].sum() #mg C/m2/year\n",
    "    if idx == 2:  # month of February\n",
    "        all_monthly_dam.loc[irow,'5month_max'] = all_monthly_dam.loc[irow,['dec','jan','feb','march','april']].sum() #mg C/m2/year\n",
    "    if idx == 11:  # month of March\n",
    "        all_monthly_dam.loc[irow,'5month_max'] = all_monthly_dam.loc[irow,['sep','oct','nov','dec','jan']].sum() #mg C/m2/year\n",
    "    if idx == 12:  # month of April\n",
    "        all_monthly_dam.loc[irow,'5month_max'] = all_monthly_dam.loc[irow,['oct','nov','dec','jan','feb']].sum() #mg C/m2/year\n",
    "\n",
    "\n",
    "all_monthly_dam['total_annual_Gg_yr'] = all_monthly_dam['Annual_max'] * Res_CH4['Surface_Area_km2'] * 1e6 * 1e-12\n",
    "all_monthly_dam['5month_max_Gg_yr'] = all_monthly_dam['5month_max'] * Res_CH4['Surface_Area_km2'] * 1e6 * 1e-12\n",
    "\n",
    "\n",
    "# print values from Table 2 in Delwiche et al., in prep\n",
    "print(all_monthly_dam.loc[all_monthly_dam.System == 'Tucurui',['System','total_annual_Gg_yr','5month_max_Gg_yr']])\n",
    "print(all_monthly_dam.loc[all_monthly_dam.System == 'Balbina',['System','total_annual_Gg_yr','5month_max_Gg_yr']])\n",
    "print(all_monthly_dam.loc[all_monthly_dam.System == 'Petit Saut',['System','total_annual_Gg_yr','5month_max_Gg_yr']])\n",
    "print(all_monthly_dam.loc[all_monthly_dam.System == 'Batang Ai',['System','total_annual_Gg_yr','5month_max_Gg_yr']])"
   ]
  },
  {
   "cell_type": "markdown",
   "metadata": {},
   "source": [
    "## Compare ResME estimates with field measurements"
   ]
  },
  {
   "cell_type": "code",
   "execution_count": 18,
   "metadata": {},
   "outputs": [
    {
     "name": "stdout",
     "output_type": "stream",
     "text": [
      "fractional bias =  0.012664398898998255\n"
     ]
    },
    {
     "name": "stderr",
     "output_type": "stream",
     "text": [
      "C:\\Users\\Owner\\Anaconda3\\envs\\InterannualAnalysis\\lib\\site-packages\\statsmodels\\tsa\\tsatools.py:142: FutureWarning: In a future version of pandas all arguments of concat except for the argument 'objs' will be keyword-only\n",
      "  x = pd.concat(x[::order], 1)\n"
     ]
    },
    {
     "data": {
      "text/html": [
       "<table class=\"simpletable\">\n",
       "<caption>OLS Regression Results</caption>\n",
       "<tr>\n",
       "  <th>Dep. Variable:</th>    <td>mg CH4-C m-2 d-1 Diffusive + Ebullitive</td> <th>  R-squared:         </th> <td>   0.414</td>\n",
       "</tr>\n",
       "<tr>\n",
       "  <th>Model:</th>                              <td>OLS</td>                   <th>  Adj. R-squared:    </th> <td>   0.403</td>\n",
       "</tr>\n",
       "<tr>\n",
       "  <th>Method:</th>                        <td>Least Squares</td>              <th>  F-statistic:       </th> <td>   36.78</td>\n",
       "</tr>\n",
       "<tr>\n",
       "  <th>Date:</th>                        <td>Wed, 27 Jul 2022</td>             <th>  Prob (F-statistic):</th> <td>1.52e-07</td>\n",
       "</tr>\n",
       "<tr>\n",
       "  <th>Time:</th>                            <td>15:59:50</td>                 <th>  Log-Likelihood:    </th> <td> -92.369</td>\n",
       "</tr>\n",
       "<tr>\n",
       "  <th>No. Observations:</th>                 <td>    54</td>                  <th>  AIC:               </th> <td>   188.7</td>\n",
       "</tr>\n",
       "<tr>\n",
       "  <th>Df Residuals:</th>                     <td>    52</td>                  <th>  BIC:               </th> <td>   192.7</td>\n",
       "</tr>\n",
       "<tr>\n",
       "  <th>Df Model:</th>                         <td>     1</td>                  <th>                     </th>     <td> </td>   \n",
       "</tr>\n",
       "<tr>\n",
       "  <th>Covariance Type:</th>                 <td>nonrobust</td>                <th>                     </th>     <td> </td>   \n",
       "</tr>\n",
       "</table>\n",
       "<table class=\"simpletable\">\n",
       "<tr>\n",
       "          <td></td>            <th>coef</th>     <th>std err</th>      <th>t</th>      <th>P>|t|</th>  <th>[0.025</th>    <th>0.975]</th>  \n",
       "</tr>\n",
       "<tr>\n",
       "  <th>const</th>            <td>    0.0359</td> <td>    0.602</td> <td>    0.060</td> <td> 0.953</td> <td>   -1.173</td> <td>    1.245</td>\n",
       "</tr>\n",
       "<tr>\n",
       "  <th>Eb_plus_Diff_all</th> <td>    0.9734</td> <td>    0.161</td> <td>    6.065</td> <td> 0.000</td> <td>    0.651</td> <td>    1.295</td>\n",
       "</tr>\n",
       "</table>\n",
       "<table class=\"simpletable\">\n",
       "<tr>\n",
       "  <th>Omnibus:</th>       <td> 3.708</td> <th>  Durbin-Watson:     </th> <td>   1.789</td>\n",
       "</tr>\n",
       "<tr>\n",
       "  <th>Prob(Omnibus):</th> <td> 0.157</td> <th>  Jarque-Bera (JB):  </th> <td>   2.097</td>\n",
       "</tr>\n",
       "<tr>\n",
       "  <th>Skew:</th>          <td>-0.228</td> <th>  Prob(JB):          </th> <td>   0.350</td>\n",
       "</tr>\n",
       "<tr>\n",
       "  <th>Kurtosis:</th>      <td> 2.149</td> <th>  Cond. No.          </th> <td>    13.0</td>\n",
       "</tr>\n",
       "</table><br/><br/>Notes:<br/>[1] Standard Errors assume that the covariance matrix of the errors is correctly specified."
      ],
      "text/plain": [
       "<class 'statsmodels.iolib.summary.Summary'>\n",
       "\"\"\"\n",
       "                                       OLS Regression Results                                      \n",
       "===================================================================================================\n",
       "Dep. Variable:     mg CH4-C m-2 d-1 Diffusive + Ebullitive   R-squared:                       0.414\n",
       "Model:                                                 OLS   Adj. R-squared:                  0.403\n",
       "Method:                                      Least Squares   F-statistic:                     36.78\n",
       "Date:                                     Wed, 27 Jul 2022   Prob (F-statistic):           1.52e-07\n",
       "Time:                                             15:59:50   Log-Likelihood:                -92.369\n",
       "No. Observations:                                       54   AIC:                             188.7\n",
       "Df Residuals:                                           52   BIC:                             192.7\n",
       "Df Model:                                                1                                         \n",
       "Covariance Type:                                 nonrobust                                         \n",
       "====================================================================================\n",
       "                       coef    std err          t      P>|t|      [0.025      0.975]\n",
       "------------------------------------------------------------------------------------\n",
       "const                0.0359      0.602      0.060      0.953      -1.173       1.245\n",
       "Eb_plus_Diff_all     0.9734      0.161      6.065      0.000       0.651       1.295\n",
       "==============================================================================\n",
       "Omnibus:                        3.708   Durbin-Watson:                   1.789\n",
       "Prob(Omnibus):                  0.157   Jarque-Bera (JB):                2.097\n",
       "Skew:                          -0.228   Prob(JB):                        0.350\n",
       "Kurtosis:                       2.149   Cond. No.                         13.0\n",
       "==============================================================================\n",
       "\n",
       "Notes:\n",
       "[1] Standard Errors assume that the covariance matrix of the errors is correctly specified.\n",
       "\"\"\""
      ]
     },
     "execution_count": 18,
     "metadata": {},
     "output_type": "execute_result"
    },
    {
     "data": {
      "image/png": "[encoded data removed]",
      "text/plain": [
       "<Figure size 432x288 with 1 Axes>"
      ]
     },
     "metadata": {
      "needs_background": "light"
     },
     "output_type": "display_data"
    }
   ],
   "source": [
    "fig = plt.figure()\n",
    "ax = plt.gca()\n",
    "sc = ax.scatter(Res_CH4['Eb_plus_Diff_all'], Res_CH4['mg CH4-C m-2 d-1 Diffusive + Ebullitive'])\n",
    "plt.xlabel('Modeled $CH_4$ emissions  (mg $CH_4$-C / $m^2$/ day)', fontsize = 13)\n",
    "plt.ylabel('Measured $CH_4$ emissions \\n(mg $CH_4$-C / $m^2$/ day)', fontsize = 13)\n",
    "ax.set_yscale('log')\n",
    "ax.set_xscale('log')\n",
    "plt.plot([0.1,1000],[0.1,1000],':k')\n",
    "\n",
    "log_tot_ebdiff = np.log(Res_CH4['Eb_plus_Diff_all'])\n",
    "log_fielddata_tot = np.log(Res_CH4['mg CH4-C m-2 d-1 Diffusive + Ebullitive'])\n",
    "log_tot_ebdiff= sm.add_constant(log_tot_ebdiff)  \n",
    "model = sm.OLS(log_fielddata_tot,  log_tot_ebdiff, hasconstant = True).fit()  \n",
    "test = model.outlier_test()\n",
    "\n",
    "frac_bias = (2/len(Res_CH4)) * np.sum((Res_CH4['Eb_plus_Diff_all'] - Res_CH4['mg CH4-C m-2 d-1 Diffusive + Ebullitive']) / (Res_CH4['Eb_plus_Diff_all'] + Res_CH4['mg CH4-C m-2 d-1 Diffusive + Ebullitive']))\n",
    "print('fractional bias = ', frac_bias)\n",
    "model.summary()"
   ]
  }
 ],
 "metadata": {
  "kernelspec": {
   "display_name": "Python 3 (ipykernel)",
   "language": "python",
   "name": "python3"
  },
  "language_info": {
   "codemirror_mode": {
    "name": "ipython",
    "version": 3
   },
   "file_extension": ".py",
   "mimetype": "text/x-python",
   "name": "python",
   "nbconvert_exporter": "python",
   "pygments_lexer": "ipython3",
   "version": "3.8.12"
  }
 },
 "nbformat": 4,
 "nbformat_minor": 1
}
